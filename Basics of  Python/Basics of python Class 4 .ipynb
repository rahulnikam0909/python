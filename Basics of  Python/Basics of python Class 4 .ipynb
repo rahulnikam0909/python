{
 "cells": [
  {
   "cell_type": "code",
   "execution_count": null,
   "metadata": {},
   "outputs": [],
   "source": [
    "#functions in python \n",
    "    #when we are write multiple lines of a code ,then lines of  a code will increses\n",
    "    #to make that reuseable i will go with function\n",
    "#string functions\n",
    "#regular expressions"
   ]
  },
  {
   "cell_type": "code",
   "execution_count": 1,
   "metadata": {},
   "outputs": [
    {
     "name": "stdout",
     "output_type": "stream",
     "text": [
      "good morning\n"
     ]
    }
   ],
   "source": [
    "def greeting():\n",
    "    print('good morning')\n",
    "greeting()"
   ]
  },
  {
   "cell_type": "code",
   "execution_count": 2,
   "metadata": {},
   "outputs": [
    {
     "ename": "TypeError",
     "evalue": "greeting() missing 1 required positional argument: 'name'",
     "output_type": "error",
     "traceback": [
      "\u001b[1;31m---------------------------------------------------------------------------\u001b[0m",
      "\u001b[1;31mTypeError\u001b[0m                                 Traceback (most recent call last)",
      "\u001b[1;32m<ipython-input-2-c1e4981c197a>\u001b[0m in \u001b[0;36m<module>\u001b[1;34m\u001b[0m\n\u001b[0;32m      1\u001b[0m \u001b[1;32mdef\u001b[0m \u001b[0mgreeting\u001b[0m\u001b[1;33m(\u001b[0m\u001b[0mname\u001b[0m\u001b[1;33m)\u001b[0m\u001b[1;33m:\u001b[0m\u001b[1;33m\u001b[0m\u001b[1;33m\u001b[0m\u001b[0m\n\u001b[0;32m      2\u001b[0m     \u001b[0mprint\u001b[0m\u001b[1;33m(\u001b[0m\u001b[1;34m'good morning'\u001b[0m\u001b[1;33m)\u001b[0m\u001b[1;33m\u001b[0m\u001b[1;33m\u001b[0m\u001b[0m\n\u001b[1;32m----> 3\u001b[1;33m \u001b[0mgreeting\u001b[0m\u001b[1;33m(\u001b[0m\u001b[1;33m)\u001b[0m\u001b[1;33m\u001b[0m\u001b[1;33m\u001b[0m\u001b[0m\n\u001b[0m",
      "\u001b[1;31mTypeError\u001b[0m: greeting() missing 1 required positional argument: 'name'"
     ]
    }
   ],
   "source": [
    "def greeting(name):\n",
    "    print('good morning')\n",
    "greeting()"
   ]
  },
  {
   "cell_type": "code",
   "execution_count": 3,
   "metadata": {},
   "outputs": [
    {
     "name": "stdout",
     "output_type": "stream",
     "text": [
      "good morning\n"
     ]
    }
   ],
   "source": [
    "def greeting(name):\n",
    "    print('good morning')\n",
    "greeting('rahul')"
   ]
  },
  {
   "cell_type": "code",
   "execution_count": 6,
   "metadata": {},
   "outputs": [
    {
     "name": "stdout",
     "output_type": "stream",
     "text": [
      "hello, rahul good morning\n"
     ]
    }
   ],
   "source": [
    "def greeting(name):\n",
    "    print('hello,', name, 'good morning')\n",
    "greeting('rahul')"
   ]
  },
  {
   "cell_type": "code",
   "execution_count": 8,
   "metadata": {},
   "outputs": [
    {
     "name": "stdout",
     "output_type": "stream",
     "text": [
      "hello, Rahul good morning\n",
      "hello, guest good morning\n"
     ]
    }
   ],
   "source": [
    "def greeting(name='guest'):\n",
    "    print('hello,',name,'good morning')\n",
    "greeting('Rahul')\n",
    "greeting()"
   ]
  },
  {
   "cell_type": "code",
   "execution_count": 12,
   "metadata": {},
   "outputs": [
    {
     "name": "stdout",
     "output_type": "stream",
     "text": [
      "the square of 20 is: 400 \n"
     ]
    }
   ],
   "source": [
    "def square(x):\n",
    "    print ('the square of {} is: {} ' .format(x,x*x))\n",
    "square(20)"
   ]
  },
  {
   "cell_type": "code",
   "execution_count": 14,
   "metadata": {},
   "outputs": [
    {
     "name": "stdout",
     "output_type": "stream",
     "text": [
      "50\n"
     ]
    }
   ],
   "source": [
    "def add(x,y):\n",
    "    print (x+y)\n",
    "add(20,30)"
   ]
  },
  {
   "cell_type": "code",
   "execution_count": null,
   "metadata": {},
   "outputs": [],
   "source": [
    "def square(x):\n",
    "    '''this function help to take a square of number'''\n",
    "    print ('the square of {} is: {} ' .format(x,x*x))\n",
    "square(20)"
   ]
  },
  {
   "cell_type": "code",
   "execution_count": 16,
   "metadata": {},
   "outputs": [
    {
     "name": "stdout",
     "output_type": "stream",
     "text": [
      "20 num is even\n",
      "51 num is odd\n",
      "62.5 num is odd\n"
     ]
    }
   ],
   "source": [
    "def evenodd(n):\n",
    "    if n%2==0:\n",
    "        print('{} num is even'.format(n))\n",
    "    else:\n",
    "        print('{} num is odd'.format(n))\n",
    "evenodd(20)\n",
    "evenodd(51)\n",
    "evenodd(62.5)"
   ]
  },
  {
   "cell_type": "code",
   "execution_count": 20,
   "metadata": {},
   "outputs": [
    {
     "name": "stdout",
     "output_type": "stream",
     "text": [
      "5\n",
      "20\n",
      "60\n",
      "120\n",
      "120\n"
     ]
    }
   ],
   "source": [
    "def fact(n):\n",
    "    result = 1\n",
    "    while n>=1:\n",
    "        result=result * n\n",
    "        n = n-1\n",
    "        print(result)\n",
    "        \n",
    "fact(5)"
   ]
  },
  {
   "cell_type": "code",
   "execution_count": 24,
   "metadata": {},
   "outputs": [
    {
     "data": {
      "text/plain": [
       "13"
      ]
     },
     "execution_count": 24,
     "metadata": {},
     "output_type": "execute_result"
    }
   ],
   "source": [
    "def calc(a,b):\n",
    "    sum = a+b\n",
    "    sub = a-b\n",
    "    mul = a*b\n",
    "    div = a/b\n",
    "    return sum\n",
    "    return mul\n",
    "    return sub\n",
    "    return div\n",
    "calc(10,3)"
   ]
  },
  {
   "cell_type": "code",
   "execution_count": 25,
   "metadata": {},
   "outputs": [
    {
     "data": {
      "text/plain": [
       "(13, 7, 30, 3.3333333333333335)"
      ]
     },
     "execution_count": 25,
     "metadata": {},
     "output_type": "execute_result"
    }
   ],
   "source": [
    "def calc(a,b):\n",
    "    sum = a+b\n",
    "    sub = a-b\n",
    "    mul = a*b\n",
    "    div = a/b\n",
    "    return sum, sub,mul,div\n",
    "calc(10,3)"
   ]
  },
  {
   "cell_type": "code",
   "execution_count": 28,
   "metadata": {},
   "outputs": [
    {
     "data": {
      "text/plain": [
       "{'sum': 13, 'sub': 7, 'mul': 30, 'div': 3.3333333333333335}"
      ]
     },
     "execution_count": 28,
     "metadata": {},
     "output_type": "execute_result"
    }
   ],
   "source": [
    "def calc(a,b):\n",
    "    sum = a+b\n",
    "    sub = a-b\n",
    "    mul = a*b\n",
    "    div = a/b\n",
    "    return {'sum':sum,'sub':sub,'mul':mul,'div':div}\n",
    "calc(10,3)"
   ]
  },
  {
   "cell_type": "code",
   "execution_count": null,
   "metadata": {},
   "outputs": [],
   "source": [
    "#Types of arguments\n",
    "    #1. Positional\n",
    "    #2. Keyword\n",
    "    #3. Default \n",
    "    #4. Variable length"
   ]
  },
  {
   "cell_type": "code",
   "execution_count": 29,
   "metadata": {},
   "outputs": [
    {
     "ename": "TypeError",
     "evalue": "sum() missing 1 required positional argument: 'b'",
     "output_type": "error",
     "traceback": [
      "\u001b[1;31m---------------------------------------------------------------------------\u001b[0m",
      "\u001b[1;31mTypeError\u001b[0m                                 Traceback (most recent call last)",
      "\u001b[1;32m<ipython-input-29-406a4656fdeb>\u001b[0m in \u001b[0;36m<module>\u001b[1;34m\u001b[0m\n\u001b[0;32m      2\u001b[0m \u001b[1;32mdef\u001b[0m \u001b[0msum\u001b[0m\u001b[1;33m(\u001b[0m\u001b[0ma\u001b[0m\u001b[1;33m,\u001b[0m\u001b[0mb\u001b[0m\u001b[1;33m)\u001b[0m\u001b[1;33m:\u001b[0m\u001b[1;33m\u001b[0m\u001b[1;33m\u001b[0m\u001b[0m\n\u001b[0;32m      3\u001b[0m     \u001b[0mprint\u001b[0m\u001b[1;33m(\u001b[0m\u001b[0ma\u001b[0m\u001b[1;33m+\u001b[0m\u001b[0mb\u001b[0m\u001b[1;33m)\u001b[0m\u001b[1;33m\u001b[0m\u001b[1;33m\u001b[0m\u001b[0m\n\u001b[1;32m----> 4\u001b[1;33m \u001b[0msum\u001b[0m\u001b[1;33m(\u001b[0m\u001b[1;36m10\u001b[0m\u001b[1;33m)\u001b[0m\u001b[1;33m\u001b[0m\u001b[1;33m\u001b[0m\u001b[0m\n\u001b[0m",
      "\u001b[1;31mTypeError\u001b[0m: sum() missing 1 required positional argument: 'b'"
     ]
    }
   ],
   "source": [
    "#Positional Arguments\n",
    "def sum(a,b):\n",
    "    print(a+b)\n",
    "sum(10)\n",
    "#one agrument missing"
   ]
  },
  {
   "cell_type": "code",
   "execution_count": 30,
   "metadata": {},
   "outputs": [
    {
     "name": "stdout",
     "output_type": "stream",
     "text": [
      "12\n"
     ]
    }
   ],
   "source": [
    "#Positional Arguments= Exact correct positional order and number of arguments required\n",
    "def sum(a,b):\n",
    "    print(a+b)\n",
    "sum(10,2)"
   ]
  },
  {
   "cell_type": "code",
   "execution_count": 31,
   "metadata": {},
   "outputs": [
    {
     "name": "stdout",
     "output_type": "stream",
     "text": [
      "Hello Merccedes benz your company is: Rahul\n",
      "Hello Rahul your company is: Mercedes benz\n"
     ]
    }
   ],
   "source": [
    "#Keyword Arguments\n",
    "def greeting(name, company):\n",
    "    print('Hello',name,'your company is:',company)\n",
    "greeting('Merccedes benz','Rahul')\n",
    "greeting(name='Rahul',company='Mercedes benz')"
   ]
  },
  {
   "cell_type": "code",
   "execution_count": 37,
   "metadata": {},
   "outputs": [
    {
     "name": "stdout",
     "output_type": "stream",
     "text": [
      "student name Guest\n",
      "student age 20\n",
      "student marks 100\n",
      "student msg Good Morning\n",
      "student name Guest\n",
      "student age 50\n",
      "student marks 20\n",
      "student msg Good Morning\n"
     ]
    }
   ],
   "source": [
    "def greeting(marks,age,name='Guest',msg='Good Morning'):\n",
    "    print('student name',name)\n",
    "    print('student age',age)\n",
    "    print('student marks',marks)\n",
    "    print('student msg',msg)\n",
    "greeting(100,20)\n",
    "greeting(20,50)\n"
   ]
  },
  {
   "cell_type": "code",
   "execution_count": 39,
   "metadata": {},
   "outputs": [
    {
     "ename": "SyntaxError",
     "evalue": "positional argument follows keyword argument (<ipython-input-39-4a9d308418f5>, line 8)",
     "output_type": "error",
     "traceback": [
      "\u001b[1;36m  File \u001b[1;32m\"<ipython-input-39-4a9d308418f5>\"\u001b[1;36m, line \u001b[1;32m8\u001b[0m\n\u001b[1;33m    greeting(marks=20,100)\u001b[0m\n\u001b[1;37m                      ^\u001b[0m\n\u001b[1;31mSyntaxError\u001b[0m\u001b[1;31m:\u001b[0m positional argument follows keyword argument\n"
     ]
    }
   ],
   "source": [
    "def greeting(marks,age,name='Guest',msg='Good Morning'):\n",
    "    print('student name',name)\n",
    "    print('student age',age)\n",
    "    print('student marks',marks)\n",
    "    print('student msg',msg)\n",
    "#greeting(100,20)\n",
    "#greeting(20,50)\n",
    "greeting(marks=20,100)\n"
   ]
  },
  {
   "cell_type": "code",
   "execution_count": 41,
   "metadata": {},
   "outputs": [
    {
     "name": "stdout",
     "output_type": "stream",
     "text": [
      "30\n",
      "60\n",
      "100\n"
     ]
    }
   ],
   "source": [
    "#Default Argument\n",
    "def sum(a,s):\n",
    "    print(a+s)\n",
    "def sum1(a,s,d):\n",
    "    print(a+s+d)\n",
    "def sum2(a,s,d,f):\n",
    "    print(a+s+d+f)\n",
    "sum(10,20)\n",
    "sum1(10,20,30)\n",
    "sum2(10,20,30,40)"
   ]
  },
  {
   "cell_type": "code",
   "execution_count": 44,
   "metadata": {},
   "outputs": [
    {
     "name": "stdout",
     "output_type": "stream",
     "text": [
      "10\n",
      "30\n",
      "60\n",
      "100\n",
      "150\n",
      "210\n",
      "280\n",
      "360\n",
      "450\n"
     ]
    }
   ],
   "source": [
    "#Variable Argument\n",
    "def sum(*a):\n",
    "    result = 0\n",
    "    for i in a:\n",
    "        result = result + i\n",
    "        print(result)\n",
    "sum(10,20,30,40,50,60,70,80,90)        \n",
    "    "
   ]
  },
  {
   "cell_type": "code",
   "execution_count": 45,
   "metadata": {},
   "outputs": [
    {
     "name": "stdout",
     "output_type": "stream",
     "text": [
      "f1: 10\n"
     ]
    }
   ],
   "source": [
    "a =10\n",
    "def f1():\n",
    "    print('f1:',a)\n",
    "f1()"
   ]
  },
  {
   "cell_type": "code",
   "execution_count": 46,
   "metadata": {},
   "outputs": [
    {
     "data": {
      "text/plain": [
       "10"
      ]
     },
     "execution_count": 46,
     "metadata": {},
     "output_type": "execute_result"
    }
   ],
   "source": [
    "a"
   ]
  },
  {
   "cell_type": "code",
   "execution_count": 49,
   "metadata": {},
   "outputs": [
    {
     "ename": "NameError",
     "evalue": "name 'pp' is not defined",
     "output_type": "error",
     "traceback": [
      "\u001b[1;31m---------------------------------------------------------------------------\u001b[0m",
      "\u001b[1;31mNameError\u001b[0m                                 Traceback (most recent call last)",
      "\u001b[1;32m<ipython-input-49-57b9888a4b3e>\u001b[0m in \u001b[0;36m<module>\u001b[1;34m\u001b[0m\n\u001b[0;32m      5\u001b[0m     \u001b[0mprint\u001b[0m\u001b[1;33m(\u001b[0m\u001b[1;34m'f2:'\u001b[0m\u001b[1;33m,\u001b[0m\u001b[0mpp\u001b[0m\u001b[1;33m)\u001b[0m\u001b[1;33m\u001b[0m\u001b[1;33m\u001b[0m\u001b[0m\n\u001b[0;32m      6\u001b[0m \u001b[1;31m#f1()\u001b[0m\u001b[1;33m\u001b[0m\u001b[1;33m\u001b[0m\u001b[1;33m\u001b[0m\u001b[0m\n\u001b[1;32m----> 7\u001b[1;33m \u001b[0mf2\u001b[0m\u001b[1;33m(\u001b[0m\u001b[1;33m)\u001b[0m\u001b[1;33m\u001b[0m\u001b[1;33m\u001b[0m\u001b[0m\n\u001b[0m",
      "\u001b[1;32m<ipython-input-49-57b9888a4b3e>\u001b[0m in \u001b[0;36mf2\u001b[1;34m()\u001b[0m\n\u001b[0;32m      3\u001b[0m     \u001b[0mprint\u001b[0m\u001b[1;33m(\u001b[0m\u001b[1;34m'f1:'\u001b[0m\u001b[1;33m,\u001b[0m\u001b[0mpp\u001b[0m\u001b[1;33m)\u001b[0m\u001b[1;33m\u001b[0m\u001b[1;33m\u001b[0m\u001b[0m\n\u001b[0;32m      4\u001b[0m \u001b[1;32mdef\u001b[0m \u001b[0mf2\u001b[0m\u001b[1;33m(\u001b[0m\u001b[1;33m)\u001b[0m\u001b[1;33m:\u001b[0m\u001b[1;33m\u001b[0m\u001b[1;33m\u001b[0m\u001b[0m\n\u001b[1;32m----> 5\u001b[1;33m     \u001b[0mprint\u001b[0m\u001b[1;33m(\u001b[0m\u001b[1;34m'f2:'\u001b[0m\u001b[1;33m,\u001b[0m\u001b[0mpp\u001b[0m\u001b[1;33m)\u001b[0m\u001b[1;33m\u001b[0m\u001b[1;33m\u001b[0m\u001b[0m\n\u001b[0m\u001b[0;32m      6\u001b[0m \u001b[1;31m#f1()\u001b[0m\u001b[1;33m\u001b[0m\u001b[1;33m\u001b[0m\u001b[1;33m\u001b[0m\u001b[0m\n\u001b[0;32m      7\u001b[0m \u001b[0mf2\u001b[0m\u001b[1;33m(\u001b[0m\u001b[1;33m)\u001b[0m\u001b[1;33m\u001b[0m\u001b[1;33m\u001b[0m\u001b[0m\n",
      "\u001b[1;31mNameError\u001b[0m: name 'pp' is not defined"
     ]
    }
   ],
   "source": [
    "def f1():\n",
    "    pp=20\n",
    "    print('f1:',pp)\n",
    "def f2():\n",
    "    print('f2:',pp)\n",
    "#f1()\n",
    "f2()"
   ]
  },
  {
   "cell_type": "code",
   "execution_count": 50,
   "metadata": {},
   "outputs": [],
   "source": [
    "pp=1000"
   ]
  },
  {
   "cell_type": "code",
   "execution_count": 51,
   "metadata": {
    "scrolled": true
   },
   "outputs": [
    {
     "name": "stdout",
     "output_type": "stream",
     "text": [
      "f1: 20\n",
      "f2: 1000\n"
     ]
    }
   ],
   "source": [
    "def f1():\n",
    "    pp=20\n",
    "    print('f1:',pp)\n",
    "def f2():\n",
    "    print('f2:',pp)\n",
    "f1()\n",
    "f2()"
   ]
  },
  {
   "cell_type": "code",
   "execution_count": 12,
   "metadata": {},
   "outputs": [],
   "source": [
    "pp=1000"
   ]
  },
  {
   "cell_type": "code",
   "execution_count": 16,
   "metadata": {},
   "outputs": [
    {
     "name": "stdout",
     "output_type": "stream",
     "text": [
      "f1: 20\n",
      "f2: 1000\n"
     ]
    }
   ],
   "source": [
    "cust=1000\n",
    "def f1():\n",
    "    cust=20\n",
    "    print('f1:',cust)\n",
    "def f2():\n",
    "    print('f2:',cust)\n",
    "f1()\n",
    "f2()"
   ]
  },
  {
   "cell_type": "code",
   "execution_count": 17,
   "metadata": {},
   "outputs": [
    {
     "name": "stdout",
     "output_type": "stream",
     "text": [
      "f1: 100\n",
      "f2: 100\n"
     ]
    }
   ],
   "source": [
    "cust=100\n",
    "def f1():\n",
    "    global cust\n",
    "    print('f1:',cust)\n",
    "def f2():\n",
    "    print('f2:',cust)\n",
    "f1()\n",
    "f2()"
   ]
  },
  {
   "cell_type": "code",
   "execution_count": 18,
   "metadata": {},
   "outputs": [
    {
     "name": "stdout",
     "output_type": "stream",
     "text": [
      "f1: 1000\n",
      "f2: 1000\n"
     ]
    }
   ],
   "source": [
    "cust=100\n",
    "def f1():\n",
    "    global cust\n",
    "    cust=1000\n",
    "    print('f1:',cust)\n",
    "def f2():\n",
    "    print('f2:',cust)\n",
    "f1()\n",
    "f2()"
   ]
  },
  {
   "cell_type": "code",
   "execution_count": 20,
   "metadata": {},
   "outputs": [
    {
     "name": "stdout",
     "output_type": "stream",
     "text": [
      "f2: 100\n",
      "f1: 200\n"
     ]
    }
   ],
   "source": [
    "cust=100\n",
    "def f2():\n",
    "    print('f2:',cust)\n",
    "def f1():\n",
    "    global cust\n",
    "    cust=200\n",
    "    print('f1:',cust)\n",
    "\n",
    "f2()\n",
    "f1()\n"
   ]
  },
  {
   "cell_type": "code",
   "execution_count": 21,
   "metadata": {},
   "outputs": [
    {
     "name": "stdout",
     "output_type": "stream",
     "text": [
      "f1: 40\n",
      "f2: 61\n",
      "f3: 61\n"
     ]
    }
   ],
   "source": [
    "def f1():\n",
    "    global s\n",
    "    s=40\n",
    "    print('f1:',s)\n",
    "    \n",
    "def f2():\n",
    "    global s\n",
    "    s=61\n",
    "    print('f2:',s)\n",
    "    \n",
    "def f3():\n",
    "    print('f3:',s)\n",
    "f1()\n",
    "f2()\n",
    "f3()"
   ]
  },
  {
   "cell_type": "code",
   "execution_count": 22,
   "metadata": {},
   "outputs": [
    {
     "name": "stdout",
     "output_type": "stream",
     "text": [
      "f2: 555\n",
      "f1: 450\n",
      "f3: 450\n"
     ]
    }
   ],
   "source": [
    "def f1():\n",
    "    global s\n",
    "    s=450\n",
    "    print('f1:',s)\n",
    "    \n",
    "def f2():\n",
    "    global s\n",
    "    s=555\n",
    "    print('f2:',s)\n",
    "    \n",
    "def f3():\n",
    "    print('f3:',s)\n",
    "f2()\n",
    "f1()\n",
    "f3()"
   ]
  },
  {
   "cell_type": "code",
   "execution_count": 23,
   "metadata": {},
   "outputs": [
    {
     "name": "stdout",
     "output_type": "stream",
     "text": [
      "f1: 20\n",
      "f1: 20\n"
     ]
    }
   ],
   "source": [
    "a=10\n",
    "def f1():\n",
    "    a=20\n",
    "    print ('f1:',a)\n",
    "f1()\n",
    "f1()"
   ]
  },
  {
   "cell_type": "code",
   "execution_count": 25,
   "metadata": {},
   "outputs": [
    {
     "name": "stdout",
     "output_type": "stream",
     "text": [
      "f1: 20\n",
      "10\n",
      "f1: 20\n",
      "10\n"
     ]
    }
   ],
   "source": [
    "a=10\n",
    "def f1():\n",
    "    a=20\n",
    "    print('f1:',a)\n",
    "    print (globals()['a'])\n",
    "f1()\n",
    "f1()"
   ]
  },
  {
   "cell_type": "code",
   "execution_count": 29,
   "metadata": {},
   "outputs": [
    {
     "name": "stdout",
     "output_type": "stream",
     "text": [
      "f1: 20\n",
      "10\n"
     ]
    }
   ],
   "source": [
    "a=10\n",
    "def f1():\n",
    "    a=20\n",
    "    print('f1:',a)\n",
    "    print (globals()['a'])\n",
    "f1()\n"
   ]
  },
  {
   "cell_type": "code",
   "execution_count": 30,
   "metadata": {},
   "outputs": [
    {
     "data": {
      "text/plain": [
       "{'__name__': '__main__',\n",
       " '__doc__': 'Automatically created module for IPython interactive environment',\n",
       " '__package__': None,\n",
       " '__loader__': None,\n",
       " '__spec__': None,\n",
       " '__builtin__': <module 'builtins' (built-in)>,\n",
       " '__builtins__': <module 'builtins' (built-in)>,\n",
       " '_ih': ['',\n",
       "  \"def f1:\\n    a=20\\n    print('f1:',p)\\ndef f2:\\n    print('f2:',p)\\nf1\\nf2\",\n",
       "  \"def f1:\\n    a=20\\n    print('f1:',p)\\ndef f2:\\n    print('f2:',p)\\nf1\\n#f2\",\n",
       "  \"def f1():\\n    a=20\\n    print('f1:',p)\\ndef f2():\\n    print('f2:',p)\\nf1\\n#f2\",\n",
       "  \"def f1():\\n    a=20\\n    print('f1:',p)\\ndef f2():\\n    print('f2:',p)\\nf1\\n#f2\",\n",
       "  \"def f1():\\n    a=20\\n    print('f1:',a)\\ndef f2():\\n    print('f2:',a)\\nf1\\n#f2\",\n",
       "  \"def f1():\\n    a=20\\n    print('f1:',a)\\n    \\ndef f2():\\n    print('f2:',a)\\nf1\\n#f2\",\n",
       "  \"def f1():\\n    a=20\\n    print('f1:',a)\\n    \\ndef f2():\\n    print('f2:',a)\\nf1\\n#f2\",\n",
       "  \"def f1():\\n    a=20\\n    print('f1:',a)\\n    \\ndef f2():\\n    print('f2:',a)\\n#f1\\nf2\",\n",
       "  'a=1000',\n",
       "  \"def f1():\\n    a=20\\n    print('f1:',a)\\n    \\ndef f2():\\n    print('f2:',a)\\n#f1\\nf2\",\n",
       "  \"def f1():\\n    a=20\\n    print('f1:',a)\\n    \\ndef f2():\\n    print('f2:',a)\\nf1\\n#f2\",\n",
       "  'pp=1000',\n",
       "  \"def f1():\\n    pp=20\\n    print('f1:',pp)\\n    \\ndef f2():\\n    print('f2:',pp)\\nf1\\n#f2\",\n",
       "  \"def f1():\\n    pp=20\\n    print('f1:',pp)\\n    \\ndef f2():\\n    print('f2:',pp)\\n#f1\\nf2\",\n",
       "  \"cust=10\\ndef f1():\\n    cust=20\\n    print('f1:',cust)\\ndef f2():\\n    print('f2:',cust)\\nf1()\\nf2()\",\n",
       "  \"cust=1000\\ndef f1():\\n    cust=20\\n    print('f1:',cust)\\ndef f2():\\n    print('f2:',cust)\\nf1()\\nf2()\",\n",
       "  \"cust=100\\ndef f1():\\n    global cust\\n    print('f1:',cust)\\ndef f2():\\n    print('f2:',cust)\\nf1()\\nf2()\",\n",
       "  \"cust=100\\ndef f1():\\n    global cust\\n    cust=1000\\n    print('f1:',cust)\\ndef f2():\\n    print('f2:',cust)\\nf1()\\nf2()\",\n",
       "  \"cust=100\\ndef f2():\\n    print('f2:',cust)\\nf2()\\ndef f1():\\n    global cust\\n    cust=200\\n    print('f1:',cust)\\n\\nf2()\\nf1()\",\n",
       "  \"cust=100\\ndef f2():\\n    print('f2:',cust)\\ndef f1():\\n    global cust\\n    cust=200\\n    print('f1:',cust)\\n\\nf2()\\nf1()\",\n",
       "  \"def f1():\\n    global s\\n    s=40\\n    print('f1:',s)\\n    \\ndef f2():\\n    global s\\n    s=61\\n    print('f2:',s)\\n    \\ndef f3():\\n    print('f3:',s)\\nf1()\\nf2()\\nf3()\",\n",
       "  \"def f1():\\n    global s\\n    s=450\\n    print('f1:',s)\\n    \\ndef f2():\\n    global s\\n    s=555\\n    print('f2:',s)\\n    \\ndef f3():\\n    print('f3:',s)\\nf2()\\nf1()\\nf3()\",\n",
       "  \"a=10\\ndef f1():\\n    a=20\\n    print ('f1:',a)\\nf1()\\nf1()\",\n",
       "  \"a=10\\ndef f1():\\n    a=20\\n    print (globals()['a'])\\nf1()\\nf1()\",\n",
       "  \"a=10\\ndef f1():\\n    a=20\\n    print('f1:',a)\\n    print (globals()['a'])\\nf1()\\nf1()\",\n",
       "  \"a=10\\ndef f1():\\n    a=20\\n    print('f1:',a)\\n    print (globals()['a'])\\nf1()\\nf1()\",\n",
       "  \"a=10\\ndef f1():\\n    a=20\\n    print('f1:',a)\\n    print (globals()['a'])\\nf1()\",\n",
       "  \"a=10\\ndef f1():\\n    a=20\\n    print('f1:',a)\\n    print (globals()['f1'])\\nf1()\",\n",
       "  \"a=10\\ndef f1():\\n    a=20\\n    print('f1:',a)\\n    print (globals()['a'])\\nf1()\",\n",
       "  'globals()'],\n",
       " '_oh': {3: <function __main__.f1()>,\n",
       "  4: <function __main__.f1()>,\n",
       "  5: <function __main__.f1()>,\n",
       "  6: <function __main__.f1()>,\n",
       "  7: <function __main__.f1()>,\n",
       "  8: <function __main__.f2()>,\n",
       "  10: <function __main__.f2()>,\n",
       "  11: <function __main__.f1()>,\n",
       "  13: <function __main__.f1()>,\n",
       "  14: <function __main__.f2()>},\n",
       " '_dh': ['C:\\\\Users\\\\NIKAM'],\n",
       " 'In': ['',\n",
       "  \"def f1:\\n    a=20\\n    print('f1:',p)\\ndef f2:\\n    print('f2:',p)\\nf1\\nf2\",\n",
       "  \"def f1:\\n    a=20\\n    print('f1:',p)\\ndef f2:\\n    print('f2:',p)\\nf1\\n#f2\",\n",
       "  \"def f1():\\n    a=20\\n    print('f1:',p)\\ndef f2():\\n    print('f2:',p)\\nf1\\n#f2\",\n",
       "  \"def f1():\\n    a=20\\n    print('f1:',p)\\ndef f2():\\n    print('f2:',p)\\nf1\\n#f2\",\n",
       "  \"def f1():\\n    a=20\\n    print('f1:',a)\\ndef f2():\\n    print('f2:',a)\\nf1\\n#f2\",\n",
       "  \"def f1():\\n    a=20\\n    print('f1:',a)\\n    \\ndef f2():\\n    print('f2:',a)\\nf1\\n#f2\",\n",
       "  \"def f1():\\n    a=20\\n    print('f1:',a)\\n    \\ndef f2():\\n    print('f2:',a)\\nf1\\n#f2\",\n",
       "  \"def f1():\\n    a=20\\n    print('f1:',a)\\n    \\ndef f2():\\n    print('f2:',a)\\n#f1\\nf2\",\n",
       "  'a=1000',\n",
       "  \"def f1():\\n    a=20\\n    print('f1:',a)\\n    \\ndef f2():\\n    print('f2:',a)\\n#f1\\nf2\",\n",
       "  \"def f1():\\n    a=20\\n    print('f1:',a)\\n    \\ndef f2():\\n    print('f2:',a)\\nf1\\n#f2\",\n",
       "  'pp=1000',\n",
       "  \"def f1():\\n    pp=20\\n    print('f1:',pp)\\n    \\ndef f2():\\n    print('f2:',pp)\\nf1\\n#f2\",\n",
       "  \"def f1():\\n    pp=20\\n    print('f1:',pp)\\n    \\ndef f2():\\n    print('f2:',pp)\\n#f1\\nf2\",\n",
       "  \"cust=10\\ndef f1():\\n    cust=20\\n    print('f1:',cust)\\ndef f2():\\n    print('f2:',cust)\\nf1()\\nf2()\",\n",
       "  \"cust=1000\\ndef f1():\\n    cust=20\\n    print('f1:',cust)\\ndef f2():\\n    print('f2:',cust)\\nf1()\\nf2()\",\n",
       "  \"cust=100\\ndef f1():\\n    global cust\\n    print('f1:',cust)\\ndef f2():\\n    print('f2:',cust)\\nf1()\\nf2()\",\n",
       "  \"cust=100\\ndef f1():\\n    global cust\\n    cust=1000\\n    print('f1:',cust)\\ndef f2():\\n    print('f2:',cust)\\nf1()\\nf2()\",\n",
       "  \"cust=100\\ndef f2():\\n    print('f2:',cust)\\nf2()\\ndef f1():\\n    global cust\\n    cust=200\\n    print('f1:',cust)\\n\\nf2()\\nf1()\",\n",
       "  \"cust=100\\ndef f2():\\n    print('f2:',cust)\\ndef f1():\\n    global cust\\n    cust=200\\n    print('f1:',cust)\\n\\nf2()\\nf1()\",\n",
       "  \"def f1():\\n    global s\\n    s=40\\n    print('f1:',s)\\n    \\ndef f2():\\n    global s\\n    s=61\\n    print('f2:',s)\\n    \\ndef f3():\\n    print('f3:',s)\\nf1()\\nf2()\\nf3()\",\n",
       "  \"def f1():\\n    global s\\n    s=450\\n    print('f1:',s)\\n    \\ndef f2():\\n    global s\\n    s=555\\n    print('f2:',s)\\n    \\ndef f3():\\n    print('f3:',s)\\nf2()\\nf1()\\nf3()\",\n",
       "  \"a=10\\ndef f1():\\n    a=20\\n    print ('f1:',a)\\nf1()\\nf1()\",\n",
       "  \"a=10\\ndef f1():\\n    a=20\\n    print (globals()['a'])\\nf1()\\nf1()\",\n",
       "  \"a=10\\ndef f1():\\n    a=20\\n    print('f1:',a)\\n    print (globals()['a'])\\nf1()\\nf1()\",\n",
       "  \"a=10\\ndef f1():\\n    a=20\\n    print('f1:',a)\\n    print (globals()['a'])\\nf1()\\nf1()\",\n",
       "  \"a=10\\ndef f1():\\n    a=20\\n    print('f1:',a)\\n    print (globals()['a'])\\nf1()\",\n",
       "  \"a=10\\ndef f1():\\n    a=20\\n    print('f1:',a)\\n    print (globals()['f1'])\\nf1()\",\n",
       "  \"a=10\\ndef f1():\\n    a=20\\n    print('f1:',a)\\n    print (globals()['a'])\\nf1()\",\n",
       "  'globals()'],\n",
       " 'Out': {3: <function __main__.f1()>,\n",
       "  4: <function __main__.f1()>,\n",
       "  5: <function __main__.f1()>,\n",
       "  6: <function __main__.f1()>,\n",
       "  7: <function __main__.f1()>,\n",
       "  8: <function __main__.f2()>,\n",
       "  10: <function __main__.f2()>,\n",
       "  11: <function __main__.f1()>,\n",
       "  13: <function __main__.f1()>,\n",
       "  14: <function __main__.f2()>},\n",
       " 'get_ipython': <bound method InteractiveShell.get_ipython of <ipykernel.zmqshell.ZMQInteractiveShell object at 0x00000165B8AD7070>>,\n",
       " 'exit': <IPython.core.autocall.ZMQExitAutocall at 0x165b8b6ed60>,\n",
       " 'quit': <IPython.core.autocall.ZMQExitAutocall at 0x165b8b6ed60>,\n",
       " '_': <function __main__.f2()>,\n",
       " '__': <function __main__.f1()>,\n",
       " '___': <function __main__.f1()>,\n",
       " '_i': \"a=10\\ndef f1():\\n    a=20\\n    print('f1:',a)\\n    print (globals()['a'])\\nf1()\",\n",
       " '_ii': \"a=10\\ndef f1():\\n    a=20\\n    print('f1:',a)\\n    print (globals()['f1'])\\nf1()\",\n",
       " '_iii': \"a=10\\ndef f1():\\n    a=20\\n    print('f1:',a)\\n    print (globals()['a'])\\nf1()\",\n",
       " '_i1': \"def f1:\\n    a=20\\n    print('f1:',p)\\ndef f2:\\n    print('f2:',p)\\nf1\\nf2\",\n",
       " '_i2': \"def f1:\\n    a=20\\n    print('f1:',p)\\ndef f2:\\n    print('f2:',p)\\nf1\\n#f2\",\n",
       " '_i3': \"def f1():\\n    a=20\\n    print('f1:',p)\\ndef f2():\\n    print('f2:',p)\\nf1\\n#f2\",\n",
       " 'f1': <function __main__.f1()>,\n",
       " 'f2': <function __main__.f2()>,\n",
       " '_3': <function __main__.f1()>,\n",
       " '_i4': \"def f1():\\n    a=20\\n    print('f1:',p)\\ndef f2():\\n    print('f2:',p)\\nf1\\n#f2\",\n",
       " '_4': <function __main__.f1()>,\n",
       " '_i5': \"def f1():\\n    a=20\\n    print('f1:',a)\\ndef f2():\\n    print('f2:',a)\\nf1\\n#f2\",\n",
       " '_5': <function __main__.f1()>,\n",
       " '_i6': \"def f1():\\n    a=20\\n    print('f1:',a)\\n    \\ndef f2():\\n    print('f2:',a)\\nf1\\n#f2\",\n",
       " '_6': <function __main__.f1()>,\n",
       " '_i7': \"def f1():\\n    a=20\\n    print('f1:',a)\\n    \\ndef f2():\\n    print('f2:',a)\\nf1\\n#f2\",\n",
       " '_7': <function __main__.f1()>,\n",
       " '_i8': \"def f1():\\n    a=20\\n    print('f1:',a)\\n    \\ndef f2():\\n    print('f2:',a)\\n#f1\\nf2\",\n",
       " '_8': <function __main__.f2()>,\n",
       " '_i9': 'a=1000',\n",
       " 'a': 10,\n",
       " '_i10': \"def f1():\\n    a=20\\n    print('f1:',a)\\n    \\ndef f2():\\n    print('f2:',a)\\n#f1\\nf2\",\n",
       " '_10': <function __main__.f2()>,\n",
       " '_i11': \"def f1():\\n    a=20\\n    print('f1:',a)\\n    \\ndef f2():\\n    print('f2:',a)\\nf1\\n#f2\",\n",
       " '_11': <function __main__.f1()>,\n",
       " '_i12': 'pp=1000',\n",
       " 'pp': 1000,\n",
       " '_i13': \"def f1():\\n    pp=20\\n    print('f1:',pp)\\n    \\ndef f2():\\n    print('f2:',pp)\\nf1\\n#f2\",\n",
       " '_13': <function __main__.f1()>,\n",
       " '_i14': \"def f1():\\n    pp=20\\n    print('f1:',pp)\\n    \\ndef f2():\\n    print('f2:',pp)\\n#f1\\nf2\",\n",
       " '_14': <function __main__.f2()>,\n",
       " '_i15': \"cust=10\\ndef f1():\\n    cust=20\\n    print('f1:',cust)\\ndef f2():\\n    print('f2:',cust)\\nf1()\\nf2()\",\n",
       " 'cust': 200,\n",
       " '_i16': \"cust=1000\\ndef f1():\\n    cust=20\\n    print('f1:',cust)\\ndef f2():\\n    print('f2:',cust)\\nf1()\\nf2()\",\n",
       " '_i17': \"cust=100\\ndef f1():\\n    global cust\\n    print('f1:',cust)\\ndef f2():\\n    print('f2:',cust)\\nf1()\\nf2()\",\n",
       " '_i18': \"cust=100\\ndef f1():\\n    global cust\\n    cust=1000\\n    print('f1:',cust)\\ndef f2():\\n    print('f2:',cust)\\nf1()\\nf2()\",\n",
       " '_i19': \"cust=100\\ndef f2():\\n    print('f2:',cust)\\nf2()\\ndef f1():\\n    global cust\\n    cust=200\\n    print('f1:',cust)\\n\\nf2()\\nf1()\",\n",
       " '_i20': \"cust=100\\ndef f2():\\n    print('f2:',cust)\\ndef f1():\\n    global cust\\n    cust=200\\n    print('f1:',cust)\\n\\nf2()\\nf1()\",\n",
       " '_i21': \"def f1():\\n    global s\\n    s=40\\n    print('f1:',s)\\n    \\ndef f2():\\n    global s\\n    s=61\\n    print('f2:',s)\\n    \\ndef f3():\\n    print('f3:',s)\\nf1()\\nf2()\\nf3()\",\n",
       " 'f3': <function __main__.f3()>,\n",
       " 's': 450,\n",
       " '_i22': \"def f1():\\n    global s\\n    s=450\\n    print('f1:',s)\\n    \\ndef f2():\\n    global s\\n    s=555\\n    print('f2:',s)\\n    \\ndef f3():\\n    print('f3:',s)\\nf2()\\nf1()\\nf3()\",\n",
       " '_i23': \"a=10\\ndef f1():\\n    a=20\\n    print ('f1:',a)\\nf1()\\nf1()\",\n",
       " '_i24': \"a=10\\ndef f1():\\n    a=20\\n    print (globals()['a'])\\nf1()\\nf1()\",\n",
       " '_i25': \"a=10\\ndef f1():\\n    a=20\\n    print('f1:',a)\\n    print (globals()['a'])\\nf1()\\nf1()\",\n",
       " '_i26': \"a=10\\ndef f1():\\n    a=20\\n    print('f1:',a)\\n    print (globals()['a'])\\nf1()\\nf1()\",\n",
       " '_i27': \"a=10\\ndef f1():\\n    a=20\\n    print('f1:',a)\\n    print (globals()['a'])\\nf1()\",\n",
       " '_i28': \"a=10\\ndef f1():\\n    a=20\\n    print('f1:',a)\\n    print (globals()['f1'])\\nf1()\",\n",
       " '_i29': \"a=10\\ndef f1():\\n    a=20\\n    print('f1:',a)\\n    print (globals()['a'])\\nf1()\",\n",
       " '_i30': 'globals()'}"
      ]
     },
     "execution_count": 30,
     "metadata": {},
     "output_type": "execute_result"
    }
   ],
   "source": [
    "globals()"
   ]
  },
  {
   "cell_type": "code",
   "execution_count": 32,
   "metadata": {},
   "outputs": [
    {
     "data": {
      "text/plain": [
       "720"
      ]
     },
     "execution_count": 32,
     "metadata": {},
     "output_type": "execute_result"
    }
   ],
   "source": [
    "def factorial(n):\n",
    "    if n==0:\n",
    "        result = 1\n",
    "    else:\n",
    "        result=n * factorial(n-1)\n",
    "    return result\n",
    "factorial(6)\n",
    "        \n",
    "    "
   ]
  },
  {
   "cell_type": "code",
   "execution_count": 33,
   "metadata": {},
   "outputs": [
    {
     "name": "stdout",
     "output_type": "stream",
     "text": [
      "outer function is calling\n"
     ]
    }
   ],
   "source": [
    "#Nested function\n",
    "def outer():\n",
    "    print('outer function is calling')\n",
    "    def inner():\n",
    "        print('inner function is calling')\n",
    "outer()"
   ]
  },
  {
   "cell_type": "code",
   "execution_count": 34,
   "metadata": {},
   "outputs": [
    {
     "name": "stdout",
     "output_type": "stream",
     "text": [
      "outer function is calling\n",
      "inner function is calling\n"
     ]
    }
   ],
   "source": [
    "def outer():\n",
    "    print('outer function is calling')\n",
    "    def inner():\n",
    "        print('inner function is calling')\n",
    "    inner()\n",
    "        \n",
    "outer()"
   ]
  },
  {
   "cell_type": "code",
   "execution_count": null,
   "metadata": {},
   "outputs": [],
   "source": [
    "#Lambda \n",
    "#anonymous\n",
    "#Nameless"
   ]
  },
  {
   "cell_type": "code",
   "execution_count": 36,
   "metadata": {},
   "outputs": [
    {
     "data": {
      "text/plain": [
       "400"
      ]
     },
     "execution_count": 36,
     "metadata": {},
     "output_type": "execute_result"
    }
   ],
   "source": [
    "def square(x):\n",
    "    return x*x\n",
    "square(20)"
   ]
  },
  {
   "cell_type": "code",
   "execution_count": 37,
   "metadata": {},
   "outputs": [
    {
     "data": {
      "text/plain": [
       "<function __main__.<lambda>(x)>"
      ]
     },
     "execution_count": 37,
     "metadata": {},
     "output_type": "execute_result"
    }
   ],
   "source": [
    "lambda x : x*x"
   ]
  },
  {
   "cell_type": "code",
   "execution_count": 38,
   "metadata": {},
   "outputs": [],
   "source": [
    "m1=lambda x : x*x"
   ]
  },
  {
   "cell_type": "code",
   "execution_count": 39,
   "metadata": {},
   "outputs": [
    {
     "data": {
      "text/plain": [
       "900"
      ]
     },
     "execution_count": 39,
     "metadata": {},
     "output_type": "execute_result"
    }
   ],
   "source": [
    "m1(30)"
   ]
  },
  {
   "cell_type": "code",
   "execution_count": 40,
   "metadata": {},
   "outputs": [],
   "source": [
    "m2= lambda a,b: a*b"
   ]
  },
  {
   "cell_type": "code",
   "execution_count": 41,
   "metadata": {},
   "outputs": [
    {
     "data": {
      "text/plain": [
       "1200"
      ]
     },
     "execution_count": 41,
     "metadata": {},
     "output_type": "execute_result"
    }
   ],
   "source": [
    "m2(20,60)"
   ]
  },
  {
   "cell_type": "code",
   "execution_count": 42,
   "metadata": {},
   "outputs": [],
   "source": [
    "m1=lambda x,y: x if x>y else y"
   ]
  },
  {
   "cell_type": "code",
   "execution_count": 43,
   "metadata": {},
   "outputs": [
    {
     "data": {
      "text/plain": [
       "30"
      ]
     },
     "execution_count": 43,
     "metadata": {},
     "output_type": "execute_result"
    }
   ],
   "source": [
    "m1(20,30)"
   ]
  },
  {
   "cell_type": "code",
   "execution_count": 44,
   "metadata": {},
   "outputs": [
    {
     "data": {
      "text/plain": [
       "100"
      ]
     },
     "execution_count": 44,
     "metadata": {},
     "output_type": "execute_result"
    }
   ],
   "source": [
    "m1(100,45)"
   ]
  },
  {
   "cell_type": "code",
   "execution_count": null,
   "metadata": {},
   "outputs": [],
   "source": [
    "#filter\n",
    "#map\n",
    "#reduce"
   ]
  },
  {
   "cell_type": "code",
   "execution_count": null,
   "metadata": {},
   "outputs": [],
   "source": [
    "filter(func,list)"
   ]
  },
  {
   "cell_type": "code",
   "execution_count": 45,
   "metadata": {},
   "outputs": [
    {
     "name": "stdout",
     "output_type": "stream",
     "text": [
      "<filter object at 0x00000165B8B993D0>\n"
     ]
    }
   ],
   "source": [
    "def iseven():\n",
    "    if n%2==0:\n",
    "        return true\n",
    "    else:\n",
    "        false\n",
    "l=[2,3,4,5,6,7]\n",
    "print(filter(iseven,l))"
   ]
  },
  {
   "cell_type": "code",
   "execution_count": 51,
   "metadata": {},
   "outputs": [
    {
     "data": {
      "text/plain": [
       "(2, 4, 6)"
      ]
     },
     "execution_count": 51,
     "metadata": {},
     "output_type": "execute_result"
    }
   ],
   "source": [
    "#to see object value we have to write tuple or list\n",
    "def iseven(n):\n",
    "    if n%2==0:\n",
    "        return True\n",
    "    else:\n",
    "        False\n",
    "l=[2,3,4,5,6,7]\n",
    "tuple(filter(iseven,l))"
   ]
  },
  {
   "cell_type": "code",
   "execution_count": 53,
   "metadata": {},
   "outputs": [
    {
     "data": {
      "text/plain": [
       "[2, 4, 6]"
      ]
     },
     "execution_count": 53,
     "metadata": {},
     "output_type": "execute_result"
    }
   ],
   "source": [
    "\n",
    "def iseven(n):\n",
    "    if n%2==0:\n",
    "        return True\n",
    "    else:\n",
    "        False\n",
    "l=[2,3,4,5,6,7]\n",
    "list(filter(iseven,l))"
   ]
  },
  {
   "cell_type": "code",
   "execution_count": 54,
   "metadata": {},
   "outputs": [
    {
     "ename": "TypeError",
     "evalue": "'type' object is not subscriptable",
     "output_type": "error",
     "traceback": [
      "\u001b[1;31m---------------------------------------------------------------------------\u001b[0m",
      "\u001b[1;31mTypeError\u001b[0m                                 Traceback (most recent call last)",
      "\u001b[1;32m<ipython-input-54-3016d00f1828>\u001b[0m in \u001b[0;36m<module>\u001b[1;34m\u001b[0m\n\u001b[1;32m----> 1\u001b[1;33m \u001b[0mlist\u001b[0m\u001b[1;33m[\u001b[0m\u001b[0mfilter\u001b[0m\u001b[1;33m(\u001b[0m\u001b[1;32mlambda\u001b[0m \u001b[0mx\u001b[0m\u001b[1;33m:\u001b[0m\u001b[0mx\u001b[0m\u001b[1;33m%\u001b[0m\u001b[1;36m2\u001b[0m\u001b[1;33m==\u001b[0m\u001b[1;36m0\u001b[0m\u001b[1;33m,\u001b[0m\u001b[0ml\u001b[0m\u001b[1;33m)\u001b[0m\u001b[1;33m]\u001b[0m\u001b[1;33m\u001b[0m\u001b[1;33m\u001b[0m\u001b[0m\n\u001b[0m",
      "\u001b[1;31mTypeError\u001b[0m: 'type' object is not subscriptable"
     ]
    }
   ],
   "source": [
    "list[filter(lambda x:x%2==0,l)]"
   ]
  },
  {
   "cell_type": "code",
   "execution_count": 56,
   "metadata": {},
   "outputs": [
    {
     "data": {
      "text/plain": [
       "[2, 4, 6]"
      ]
     },
     "execution_count": 56,
     "metadata": {},
     "output_type": "execute_result"
    }
   ],
   "source": [
    "list(filter(lambda x:x%2==0,l))"
   ]
  }
 ],
 "metadata": {
  "kernelspec": {
   "display_name": "Python 3",
   "language": "python",
   "name": "python3"
  },
  "language_info": {
   "codemirror_mode": {
    "name": "ipython",
    "version": 3
   },
   "file_extension": ".py",
   "mimetype": "text/x-python",
   "name": "python",
   "nbconvert_exporter": "python",
   "pygments_lexer": "ipython3",
   "version": "3.8.3"
  }
 },
 "nbformat": 4,
 "nbformat_minor": 4
}
