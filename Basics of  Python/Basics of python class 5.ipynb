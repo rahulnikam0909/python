{
 "cells": [
  {
   "cell_type": "code",
   "execution_count": null,
   "metadata": {},
   "outputs": [],
   "source": [
    "#Map\n"
   ]
  },
  {
   "cell_type": "code",
   "execution_count": 1,
   "metadata": {},
   "outputs": [
    {
     "data": {
      "text/plain": [
       "[4, 6, 8, 10, 12]"
      ]
     },
     "execution_count": 1,
     "metadata": {},
     "output_type": "execute_result"
    }
   ],
   "source": [
    "def double(x):\n",
    "    return 2*x\n",
    "l= [2,3,4,5,6]\n",
    "list(map(double,l))"
   ]
  },
  {
   "cell_type": "code",
   "execution_count": null,
   "metadata": {},
   "outputs": [],
   "source": [
    "#in map outout remain same as input(5=5), iterating on individual value\n",
    "#In filter  outout maybe less as input"
   ]
  },
  {
   "cell_type": "code",
   "execution_count": 3,
   "metadata": {},
   "outputs": [
    {
     "data": {
      "text/plain": [
       "[4, 6, 8, 10, 12]"
      ]
     },
     "execution_count": 3,
     "metadata": {},
     "output_type": "execute_result"
    }
   ],
   "source": [
    "list(map(lambda x : x*2 , l ))"
   ]
  },
  {
   "cell_type": "code",
   "execution_count": 4,
   "metadata": {},
   "outputs": [
    {
     "data": {
      "text/plain": [
       "[30, 15, 4, 24, 56, 54]"
      ]
     },
     "execution_count": 4,
     "metadata": {},
     "output_type": "execute_result"
    }
   ],
   "source": [
    "list1=[5,3,2,6,8,9]\n",
    "list2=[6,5,2,4,7,6]\n",
    "list(map(lambda x,y :x*y,list1,list2))"
   ]
  },
  {
   "cell_type": "code",
   "execution_count": 7,
   "metadata": {},
   "outputs": [
    {
     "data": {
      "text/plain": [
       "300"
      ]
     },
     "execution_count": 7,
     "metadata": {},
     "output_type": "execute_result"
    }
   ],
   "source": [
    "#Reduce\n",
    "from functools import *\n",
    "list1=[20,40,60,80,100]\n",
    "reduce (lambda x,y : x+y ,list1)"
   ]
  },
  {
   "cell_type": "code",
   "execution_count": 11,
   "metadata": {},
   "outputs": [
    {
     "name": "stdout",
     "output_type": "stream",
     "text": [
      "enter your cityMumbai\n",
      "your city is present\n"
     ]
    }
   ],
   "source": [
    "#string function\n",
    "city = input('enter your city')\n",
    "list1 =['Mumbai','Hyderabad','Pune','Nashik']\n",
    "if city in list1:\n",
    "    print('your city is present')\n",
    "else:\n",
    "    print('your city is not present')"
   ]
  },
  {
   "cell_type": "code",
   "execution_count": 12,
   "metadata": {},
   "outputs": [
    {
     "name": "stdout",
     "output_type": "stream",
     "text": [
      "enter your city mumbai\n",
      "your city is not present\n"
     ]
    }
   ],
   "source": [
    "city = input('enter your city')\n",
    "list1 =['Mumbai','Hyderabad','Pune','Nashik']\n",
    "if city in list1:\n",
    "    print('your city is present')\n",
    "else:\n",
    "    print('your city is not present')#if we give input at left space then o/p is not"
   ]
  },
  {
   "cell_type": "code",
   "execution_count": 13,
   "metadata": {},
   "outputs": [
    {
     "name": "stdout",
     "output_type": "stream",
     "text": [
      "enter your city$Mumbai\n",
      "your city is not present\n"
     ]
    }
   ],
   "source": [
    "city = input('enter your city')\n",
    "list1 =['Mumbai','Hyderabad','Pune','Nashik']\n",
    "if city in list1:\n",
    "    print('your city is present')\n",
    "else:\n",
    "    print('your city is not present')# to neglect this we called functions"
   ]
  },
  {
   "cell_type": "code",
   "execution_count": 14,
   "metadata": {},
   "outputs": [
    {
     "name": "stdout",
     "output_type": "stream",
     "text": [
      "enter your city  Mumbai\n",
      "your city is not present\n"
     ]
    }
   ],
   "source": [
    "city = input('enter your city')\n",
    "list1 =['Mumbai','Hyderabad','Pune','Nashik']\n",
    "if city.lstrip in list1:\n",
    "    print('your city is present')\n",
    "else:\n",
    "    print('your city is not present')"
   ]
  },
  {
   "cell_type": "code",
   "execution_count": 15,
   "metadata": {},
   "outputs": [
    {
     "name": "stdout",
     "output_type": "stream",
     "text": [
      "enter your city  Mumbai\n",
      "your city is present\n"
     ]
    }
   ],
   "source": [
    "city = input('enter your city')\n",
    "list1 =['Mumbai','Hyderabad','Pune','Nashik']\n",
    "if city.lstrip() in list1:\n",
    "    print('your city is present')\n",
    "else:\n",
    "    print('your city is not present')"
   ]
  },
  {
   "cell_type": "code",
   "execution_count": 16,
   "metadata": {},
   "outputs": [
    {
     "name": "stdout",
     "output_type": "stream",
     "text": [
      "enter your city  @Mumbai\n",
      "your city is not present\n"
     ]
    }
   ],
   "source": [
    "city = input('enter your city')\n",
    "list1 =['Mumbai','Hyderabad','Pune','Nashik']\n",
    "if city in list1:\n",
    "    print('your city is present')\n",
    "else:\n",
    "    print('your city is not present')#to neglect this type of output we have to passin bracket(@)"
   ]
  },
  {
   "cell_type": "code",
   "execution_count": 19,
   "metadata": {},
   "outputs": [
    {
     "name": "stdout",
     "output_type": "stream",
     "text": [
      "enter your city@Mumbai\n",
      "your city is present\n"
     ]
    }
   ],
   "source": [
    "city = input('enter your city')\n",
    "list1 =['Mumbai','Hyderabad','Pune','Nashik']\n",
    "if city.lstrip('@') in list1:\n",
    "    print('your city is present')\n",
    "else:\n",
    "    print('your city is not present')"
   ]
  },
  {
   "cell_type": "code",
   "execution_count": 21,
   "metadata": {},
   "outputs": [
    {
     "name": "stdout",
     "output_type": "stream",
     "text": [
      "enter your cityMumbai$$$\n",
      "your city is present\n"
     ]
    }
   ],
   "source": [
    "city = input('enter your city')\n",
    "list1 =['Mumbai','Hyderabad','Pune','Nashik']\n",
    "if city.rstrip('$') in list1:\n",
    "    print('your city is present')\n",
    "else:\n",
    "    print('your city is not present')"
   ]
  },
  {
   "cell_type": "code",
   "execution_count": 23,
   "metadata": {},
   "outputs": [
    {
     "name": "stdout",
     "output_type": "stream",
     "text": [
      "enter your city%%%%Pune%%%%\n",
      "your city is present\n"
     ]
    }
   ],
   "source": [
    "city = input('enter your city')\n",
    "list1 =['Mumbai','Hyderabad','Pune','Nashik']\n",
    "if city.strip('%') in list1:\n",
    "    print('your city is present')\n",
    "else:\n",
    "    print('your city is not present')"
   ]
  },
  {
   "cell_type": "code",
   "execution_count": 24,
   "metadata": {},
   "outputs": [
    {
     "data": {
      "text/plain": [
       "6"
      ]
     },
     "execution_count": 24,
     "metadata": {},
     "output_type": "execute_result"
    }
   ],
   "source": [
    "s=('rahul nikam rahul nikam')\n",
    "s.find('nikam')"
   ]
  },
  {
   "cell_type": "code",
   "execution_count": 25,
   "metadata": {},
   "outputs": [
    {
     "data": {
      "text/plain": [
       "-1"
      ]
     },
     "execution_count": 25,
     "metadata": {},
     "output_type": "execute_result"
    }
   ],
   "source": [
    "s=('rahul nikam rahul nikam')\n",
    "s.find('mercedes')"
   ]
  },
  {
   "cell_type": "code",
   "execution_count": null,
   "metadata": {},
   "outputs": [],
   "source": [
    "#find function will return the index of first match only from left to right\n",
    "#if it is not finding match it will give -1 index(it is not reverse index)"
   ]
  },
  {
   "cell_type": "code",
   "execution_count": 26,
   "metadata": {},
   "outputs": [
    {
     "data": {
      "text/plain": [
       "18"
      ]
     },
     "execution_count": 26,
     "metadata": {},
     "output_type": "execute_result"
    }
   ],
   "source": [
    "s=('rahul nikam rahul nikam')\n",
    "s.rfind('nikam')"
   ]
  },
  {
   "cell_type": "code",
   "execution_count": 27,
   "metadata": {},
   "outputs": [
    {
     "data": {
      "text/plain": [
       "6"
      ]
     },
     "execution_count": 27,
     "metadata": {},
     "output_type": "execute_result"
    }
   ],
   "source": [
    "s=('rahul nikam rahul nikam')\n",
    "s.index('nikam')"
   ]
  },
  {
   "cell_type": "code",
   "execution_count": 28,
   "metadata": {},
   "outputs": [
    {
     "data": {
      "text/plain": [
       "18"
      ]
     },
     "execution_count": 28,
     "metadata": {},
     "output_type": "execute_result"
    }
   ],
   "source": [
    "s=('rahul nikam rahul nikam')\n",
    "s.rindex('nikam')"
   ]
  },
  {
   "cell_type": "code",
   "execution_count": 29,
   "metadata": {},
   "outputs": [
    {
     "data": {
      "text/plain": [
       "12"
      ]
     },
     "execution_count": 29,
     "metadata": {},
     "output_type": "execute_result"
    }
   ],
   "source": [
    "s=('rahul nikam rahul nikam')\n",
    "s.rindex('rahul')"
   ]
  },
  {
   "cell_type": "code",
   "execution_count": 30,
   "metadata": {},
   "outputs": [
    {
     "data": {
      "text/plain": [
       "7"
      ]
     },
     "execution_count": 30,
     "metadata": {},
     "output_type": "execute_result"
    }
   ],
   "source": [
    "s=('rahul nikam rahul nikam')\n",
    "s.index('i')"
   ]
  },
  {
   "cell_type": "code",
   "execution_count": 31,
   "metadata": {},
   "outputs": [
    {
     "data": {
      "text/plain": [
       "7"
      ]
     },
     "execution_count": 31,
     "metadata": {},
     "output_type": "execute_result"
    }
   ],
   "source": [
    "s=('rahul nikam rahul nikam')\n",
    "s.index('i',5,21)"
   ]
  },
  {
   "cell_type": "code",
   "execution_count": 32,
   "metadata": {},
   "outputs": [
    {
     "data": {
      "text/plain": [
       "19"
      ]
     },
     "execution_count": 32,
     "metadata": {},
     "output_type": "execute_result"
    }
   ],
   "source": [
    "s=('rahul nikam rahul nikam')\n",
    "s.index('i',10,21)"
   ]
  },
  {
   "cell_type": "code",
   "execution_count": 33,
   "metadata": {},
   "outputs": [
    {
     "name": "stdout",
     "output_type": "stream",
     "text": [
      "enter the stringrahulllll\n",
      "enter the string which u r looking forl\n",
      "Found the value at index: 4\n",
      "Found the value at index: 5\n",
      "Found the value at index: 6\n",
      "Found the value at index: 7\n",
      "Found the value at index: 8\n"
     ]
    }
   ],
   "source": [
    "s=input('enter the string')\n",
    "sub=input('enter the string which u r looking for')\n",
    "Flag = False\n",
    "pos=-1\n",
    "n= len(s)\n",
    "while True:\n",
    "    pos = s.find(sub, pos+1, n)\n",
    "    if pos == -1:\n",
    "        break\n",
    "    print('Found the value at index:',pos)\n",
    "    flag= True\n",
    "if flag==False:\n",
    "    print('no',sub,'found')\n"
   ]
  },
  {
   "cell_type": "code",
   "execution_count": 45,
   "metadata": {},
   "outputs": [
    {
     "name": "stdout",
     "output_type": "stream",
     "text": [
      "enter the stringrahhukkk\n",
      "enter the string which u r looking fort\n",
      "no t found\n"
     ]
    }
   ],
   "source": [
    "s= input ('enter the string')\n",
    "sub= input ('enter the string which u r looking for')\n",
    "flag = False\n",
    "pos = -1\n",
    "n = len(s)\n",
    "while True:\n",
    "    pos = s.find(sub, pos+1,n)\n",
    "    if pos == -1:\n",
    "        break\n",
    "    print('Found the value at  the index:',pos)\n",
    "    flag = True\n",
    "if flag == False:\n",
    "    print('no', sub ,'found')"
   ]
  },
  {
   "cell_type": "code",
   "execution_count": 46,
   "metadata": {},
   "outputs": [
    {
     "data": {
      "text/plain": [
       "'RN nikam RN Nikam'"
      ]
     },
     "execution_count": 46,
     "metadata": {},
     "output_type": "execute_result"
    }
   ],
   "source": [
    "s=('Rahul nikam Rahul Nikam')\n",
    "s.replace('Rahul','RN')"
   ]
  },
  {
   "cell_type": "code",
   "execution_count": 48,
   "metadata": {},
   "outputs": [
    {
     "name": "stdout",
     "output_type": "stream",
     "text": [
      "1830830002624\n",
      "1830830002304\n"
     ]
    }
   ],
   "source": [
    "s=('Rahul nikam Rahul Nikam')\n",
    "print(id(s))\n",
    "s=s.replace('Rahul','RN')\n",
    "print(id(s))"
   ]
  },
  {
   "cell_type": "code",
   "execution_count": 49,
   "metadata": {},
   "outputs": [
    {
     "data": {
      "text/plain": [
       "['Rahul', 'Mathaji', 'Nikam']"
      ]
     },
     "execution_count": 49,
     "metadata": {},
     "output_type": "execute_result"
    }
   ],
   "source": [
    "s='Rahul Mathaji Nikam'\n",
    "s.split()"
   ]
  },
  {
   "cell_type": "code",
   "execution_count": 50,
   "metadata": {},
   "outputs": [
    {
     "data": {
      "text/plain": [
       "['Rahul', 'Mathaji', 'Nikam']"
      ]
     },
     "execution_count": 50,
     "metadata": {},
     "output_type": "execute_result"
    }
   ],
   "source": [
    "s='Rahul+Mathaji+Nikam'\n",
    "s.split('+')"
   ]
  },
  {
   "cell_type": "code",
   "execution_count": 51,
   "metadata": {},
   "outputs": [
    {
     "ename": "ValueError",
     "evalue": "empty separator",
     "output_type": "error",
     "traceback": [
      "\u001b[1;31m---------------------------------------------------------------------------\u001b[0m",
      "\u001b[1;31mValueError\u001b[0m                                Traceback (most recent call last)",
      "\u001b[1;32m<ipython-input-51-12a30a308c20>\u001b[0m in \u001b[0;36m<module>\u001b[1;34m\u001b[0m\n\u001b[0;32m      1\u001b[0m \u001b[0ms\u001b[0m\u001b[1;33m=\u001b[0m\u001b[1;34m'Rahul+Mathaji+Nikam'\u001b[0m\u001b[1;33m\u001b[0m\u001b[1;33m\u001b[0m\u001b[0m\n\u001b[1;32m----> 2\u001b[1;33m \u001b[0ms\u001b[0m\u001b[1;33m.\u001b[0m\u001b[0msplit\u001b[0m\u001b[1;33m(\u001b[0m\u001b[1;34m''\u001b[0m\u001b[1;33m)\u001b[0m\u001b[1;33m\u001b[0m\u001b[1;33m\u001b[0m\u001b[0m\n\u001b[0m",
      "\u001b[1;31mValueError\u001b[0m: empty separator"
     ]
    }
   ],
   "source": [
    "s='Rahul+Mathaji+Nikam'\n",
    "s.split('')"
   ]
  },
  {
   "cell_type": "code",
   "execution_count": 52,
   "metadata": {},
   "outputs": [
    {
     "data": {
      "text/plain": [
       "['A', 'B', 'C', 'D', 'E', 'F', 'G-H-I-J']"
      ]
     },
     "execution_count": 52,
     "metadata": {},
     "output_type": "execute_result"
    }
   ],
   "source": [
    "s ='A-B-C-D-E-F-G-H-I-J'\n",
    "s.split('-',6)"
   ]
  },
  {
   "cell_type": "code",
   "execution_count": 56,
   "metadata": {},
   "outputs": [
    {
     "data": {
      "text/plain": [
       "['A', 'B', 'C', 'D', 'E', 'F', 'G', 'H', 'I', 'J', 'K', 'L', 'M', 'N']"
      ]
     },
     "execution_count": 56,
     "metadata": {},
     "output_type": "execute_result"
    }
   ],
   "source": [
    "s='A B C D E F G H I J K L M N  '\n",
    "s.split()"
   ]
  },
  {
   "cell_type": "code",
   "execution_count": 57,
   "metadata": {},
   "outputs": [],
   "source": [
    "list=['Rahul','Mathaji','Nikam']\n",
    "s='-'.join(list)"
   ]
  },
  {
   "cell_type": "code",
   "execution_count": 58,
   "metadata": {},
   "outputs": [
    {
     "data": {
      "text/plain": [
       "'Rahul-Mathaji-Nikam'"
      ]
     },
     "execution_count": 58,
     "metadata": {},
     "output_type": "execute_result"
    }
   ],
   "source": [
    "s"
   ]
  },
  {
   "cell_type": "code",
   "execution_count": 59,
   "metadata": {},
   "outputs": [
    {
     "name": "stdout",
     "output_type": "stream",
     "text": [
      "RAHUL NIKAM IS A MERCEDES AMG EXPERT\n",
      "rahul nikam is a mercedes amg expert\n",
      "Rahul Nikam Is A Mercedes Amg Expert\n",
      "rAHUL niKAM IS A mERCEDES amg eXPERT\n",
      "Rahul nikam is a mercedes amg expert\n"
     ]
    }
   ],
   "source": [
    "s='Rahul NIkam is a Mercedes AMG Expert'\n",
    "print(s.upper())\n",
    "print(s.lower())\n",
    "print(s.title())\n",
    "print(s.swapcase())\n",
    "print(s.capitalize())"
   ]
  },
  {
   "cell_type": "code",
   "execution_count": 60,
   "metadata": {},
   "outputs": [
    {
     "data": {
      "text/plain": [
       "True"
      ]
     },
     "execution_count": 60,
     "metadata": {},
     "output_type": "execute_result"
    }
   ],
   "source": [
    "s='python is so simple but needs practice'\n",
    "s.startswith('python')\n",
    "s.endswith('practice')"
   ]
  },
  {
   "cell_type": "code",
   "execution_count": 61,
   "metadata": {},
   "outputs": [
    {
     "data": {
      "text/plain": [
       "False"
      ]
     },
     "execution_count": 61,
     "metadata": {},
     "output_type": "execute_result"
    }
   ],
   "source": [
    "s='python is so simple but needs practice'\n",
    "s.startswith('python')\n",
    "s.endswith('but')"
   ]
  },
  {
   "cell_type": "code",
   "execution_count": null,
   "metadata": {},
   "outputs": [],
   "source": [
    "isalpha()\n",
    "isalnum()\n",
    "isdigit()\n",
    "isupper()\n",
    "islower()\n",
    "istitle()\n",
    "isspace()"
   ]
  },
  {
   "cell_type": "code",
   "execution_count": 62,
   "metadata": {},
   "outputs": [
    {
     "name": "stdout",
     "output_type": "stream",
     "text": [
      "True\n",
      "True\n",
      "True\n",
      "True\n",
      "False\n"
     ]
    }
   ],
   "source": [
    "print('rahul123'.isalnum())\n",
    "print('RAhul'.isalpha())\n",
    "print(' '.isspace())\n",
    "print('0909'.isdigit())\n",
    "print('RAHUl'.islower())"
   ]
  },
  {
   "cell_type": "code",
   "execution_count": 63,
   "metadata": {},
   "outputs": [
    {
     "name": "stdout",
     "output_type": "stream",
     "text": [
      "enter the string Rahul\n",
      "the string is alphanumeric\n",
      "the string is alphabet\n",
      "the string is upper\n"
     ]
    }
   ],
   "source": [
    "s= input('enter the string ')\n",
    "if s.isalnum():\n",
    "    print('the string is alphanumeric')\n",
    "    if s.isalpha():\n",
    "        print('the string is alphabet')\n",
    "        if s.islower():\n",
    "            print('the string is lower')\n",
    "        else:\n",
    "            print('the string is upper')\n",
    "    else:\n",
    "        print('the string is digit')\n",
    "elif s.isspace():\n",
    "    print('it is a space ')\n",
    "else:\n",
    "    print('no space it is a special character')"
   ]
  },
  {
   "cell_type": "code",
   "execution_count": 64,
   "metadata": {},
   "outputs": [
    {
     "name": "stdout",
     "output_type": "stream",
     "text": [
      "enter the string 123\n",
      "the string is alphanumeric\n",
      "the string is digit\n"
     ]
    }
   ],
   "source": [
    "s= input('enter the string ')\n",
    "if s.isalnum():\n",
    "    print('the string is alphanumeric')\n",
    "    if s.isalpha():\n",
    "        print('the string is alphabet')\n",
    "        if s.islower():\n",
    "            print('the string is lower')\n",
    "        else:\n",
    "            print('the string is upper')\n",
    "    else:\n",
    "        print('the string is digit')\n",
    "elif s.isspace():\n",
    "    print('it is a space ')\n",
    "else:\n",
    "    print('no space it is a special character')"
   ]
  },
  {
   "cell_type": "code",
   "execution_count": 65,
   "metadata": {},
   "outputs": [
    {
     "name": "stdout",
     "output_type": "stream",
     "text": [
      "enter the string  \n",
      "it is a space \n"
     ]
    }
   ],
   "source": [
    "s= input('enter the string ')\n",
    "if s.isalnum():\n",
    "    print('the string is alphanumeric')\n",
    "    if s.isalpha():\n",
    "        print('the string is alphabet')\n",
    "        if s.islower():\n",
    "            print('the string is lower')\n",
    "        else:\n",
    "            print('the string is upper')\n",
    "    else:\n",
    "        print('the string is digit')\n",
    "elif s.isspace():\n",
    "    print('it is a space ')\n",
    "else:\n",
    "    print('no space it is a special character')"
   ]
  },
  {
   "cell_type": "code",
   "execution_count": 66,
   "metadata": {},
   "outputs": [
    {
     "name": "stdout",
     "output_type": "stream",
     "text": [
      "enter the string #$\n",
      "no space it is a special character\n"
     ]
    }
   ],
   "source": [
    "s= input('enter the string ')\n",
    "if s.isalnum():\n",
    "    print('the string is alphanumeric')\n",
    "    if s.isalpha():\n",
    "        print('the string is alphabet')\n",
    "        if s.islower():\n",
    "            print('the string is lower')\n",
    "        else:\n",
    "            print('the string is upper')\n",
    "    else:\n",
    "        print('the string is digit')\n",
    "elif s.isspace():\n",
    "    print('it is a space ')\n",
    "else:\n",
    "    print('no space it is a special character')"
   ]
  },
  {
   "cell_type": "code",
   "execution_count": 67,
   "metadata": {},
   "outputs": [
    {
     "data": {
      "text/plain": [
       "'Rahul'"
      ]
     },
     "execution_count": 67,
     "metadata": {},
     "output_type": "execute_result"
    }
   ],
   "source": [
    "s= 'Rahul'\n",
    "s[:]"
   ]
  },
  {
   "cell_type": "code",
   "execution_count": 69,
   "metadata": {},
   "outputs": [
    {
     "data": {
      "text/plain": [
       "'luhaR'"
      ]
     },
     "execution_count": 69,
     "metadata": {},
     "output_type": "execute_result"
    }
   ],
   "source": [
    "s= 'Rahul'\n",
    "s[::-1]"
   ]
  },
  {
   "cell_type": "code",
   "execution_count": 70,
   "metadata": {},
   "outputs": [
    {
     "name": "stdout",
     "output_type": "stream",
     "text": [
      "l\n",
      "u\n",
      "h\n",
      "a\n",
      "R\n"
     ]
    }
   ],
   "source": [
    "reversed(s)\n",
    "for x in reversed(s):\n",
    "    print(x)"
   ]
  },
  {
   "cell_type": "code",
   "execution_count": 71,
   "metadata": {},
   "outputs": [
    {
     "name": "stdout",
     "output_type": "stream",
     "text": [
      "luhaR"
     ]
    }
   ],
   "source": [
    "reversed(s)\n",
    "for x in reversed(s):\n",
    "    print(x, end='')"
   ]
  },
  {
   "cell_type": "code",
   "execution_count": 75,
   "metadata": {},
   "outputs": [
    {
     "name": "stdout",
     "output_type": "stream",
     "text": [
      "enter the stringrahul\n",
      "4\n",
      "luhar\n"
     ]
    }
   ],
   "source": [
    "s=input('enter the string')\n",
    "i= len(s)-1\n",
    "print(i)\n",
    "output=''\n",
    "while i>=0:\n",
    "    output = output +s[i]\n",
    "    i=i-1\n",
    "print(output)"
   ]
  },
  {
   "cell_type": "code",
   "execution_count": null,
   "metadata": {},
   "outputs": [],
   "source": [
    "s=input('enter the string')\n",
    "list= s.split()\n",
    "print(list)\n",
    "l1=[]\n",
    "i=len(list)-1\n",
    "while i>=0:\n",
    "    l1.append(list[i])\n",
    "    i=i-1\n",
    "print(l1)\n",
    "output=''.join(l1)\n",
    "print(output)"
   ]
  },
  {
   "cell_type": "code",
   "execution_count": null,
   "metadata": {},
   "outputs": [],
   "source": [
    "enter the stringrahul is amg expert\n",
    "['rahul', 'is', 'amg', 'expert']\n",
    "['expert', 'amg', 'is', 'rahul']\n",
    "expertamgisrahul"
   ]
  },
  {
   "cell_type": "code",
   "execution_count": null,
   "metadata": {},
   "outputs": [],
   "source": []
  }
 ],
 "metadata": {
  "kernelspec": {
   "display_name": "Python 3",
   "language": "python",
   "name": "python3"
  },
  "language_info": {
   "codemirror_mode": {
    "name": "ipython",
    "version": 3
   },
   "file_extension": ".py",
   "mimetype": "text/x-python",
   "name": "python",
   "nbconvert_exporter": "python",
   "pygments_lexer": "ipython3",
   "version": "3.8.3"
  }
 },
 "nbformat": 4,
 "nbformat_minor": 4
}
